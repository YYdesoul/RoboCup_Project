{
 "cells": [
  {
   "cell_type": "code",
   "execution_count": 27,
   "metadata": {},
   "outputs": [],
   "source": [
    "import torch\n",
    "import torch.nn as nn\n",
    "import torchvision\n",
    "import torchvision.transforms as transforms\n",
    "import torch.nn.functional as F\n",
    "import torch.optim as optim\n",
    "from CNN_Net import Net\n",
    "import matplotlib.pyplot as plt\n",
    "import PIL\n",
    "from PIL import Image\n",
    "import cv2"
   ]
  },
  {
   "cell_type": "code",
   "execution_count": 2,
   "metadata": {},
   "outputs": [],
   "source": [
    "# Optimizer and Loss Function\n",
    "net = Net()"
   ]
  },
  {
   "cell_type": "code",
   "execution_count": 3,
   "metadata": {},
   "outputs": [
    {
     "data": {
      "text/plain": [
       "<All keys matched successfully>"
      ]
     },
     "execution_count": 3,
     "metadata": {},
     "output_type": "execute_result"
    }
   ],
   "source": [
    "#load weights\n",
    "net.load_state_dict(torch.load('checkpoints/test.pt'))"
   ]
  },
  {
   "cell_type": "code",
   "execution_count": 4,
   "metadata": {},
   "outputs": [],
   "source": [
    "# Dataloaders\n",
    "transform = transforms.Compose(\n",
    "[transforms.ToTensor()])\n",
    "testset = torchvision.datasets.MNIST(root = './data', train = False,\n",
    "                                       download = True, transform = transform)\n",
    "testloader = torch.utils.data.DataLoader(testset, batch_size = 1,\n",
    "                                         shuffle = False, num_workers = 2)"
   ]
  },
  {
   "cell_type": "code",
   "execution_count": 5,
   "metadata": {},
   "outputs": [],
   "source": [
    "idx = 2"
   ]
  },
  {
   "cell_type": "code",
   "execution_count": 7,
   "metadata": {},
   "outputs": [
    {
     "name": "stdout",
     "output_type": "stream",
     "text": [
      "label is:  1\n",
      "predict value:  1\n"
     ]
    }
   ],
   "source": [
    "#prediction\n",
    "print('label is: ', testset[idx][1])\n",
    "out = net.forward(testset[idx][0].unsqueeze(0))\n",
    "_, predicted = torch.max(out.data, 1)\n",
    "print('predict value: ', int(predicted[0]))"
   ]
  },
  {
   "cell_type": "code",
   "execution_count": 74,
   "metadata": {
    "scrolled": true
   },
   "outputs": [
    {
     "name": "stdout",
     "output_type": "stream",
     "text": [
      "index  18  : predict number:  8 . Its label is:  3\n",
      "index  259  : predict number:  0 . Its label is:  6\n",
      "index  321  : predict number:  7 . Its label is:  2\n",
      "index  326  : predict number:  1 . Its label is:  2\n",
      "index  449  : predict number:  5 . Its label is:  3\n",
      "index  492  : predict number:  8 . Its label is:  2\n",
      "index  582  : predict number:  2 . Its label is:  8\n",
      "index  583  : predict number:  7 . Its label is:  2\n",
      "index  659  : predict number:  1 . Its label is:  2\n",
      "index  740  : predict number:  9 . Its label is:  4\n",
      "index  813  : predict number:  8 . Its label is:  9\n",
      "index  882  : predict number:  7 . Its label is:  9\n",
      "index  883  : predict number:  5 . Its label is:  3\n",
      "index  947  : predict number:  9 . Its label is:  8\n",
      "index  1014  : predict number:  5 . Its label is:  6\n",
      "index  1039  : predict number:  2 . Its label is:  7\n",
      "index  1112  : predict number:  6 . Its label is:  4\n",
      "index  1226  : predict number:  2 . Its label is:  7\n",
      "index  1232  : predict number:  4 . Its label is:  9\n",
      "index  1242  : predict number:  9 . Its label is:  4\n",
      "index  1247  : predict number:  5 . Its label is:  9\n",
      "index  1260  : predict number:  1 . Its label is:  7\n",
      "index  1299  : predict number:  7 . Its label is:  5\n",
      "index  1319  : predict number:  0 . Its label is:  8\n",
      "index  1393  : predict number:  3 . Its label is:  5\n",
      "index  1530  : predict number:  7 . Its label is:  8\n",
      "index  1621  : predict number:  6 . Its label is:  0\n",
      "index  1709  : predict number:  5 . Its label is:  9\n",
      "index  1722  : predict number:  7 . Its label is:  2\n",
      "index  1790  : predict number:  7 . Its label is:  2\n",
      "index  1878  : predict number:  3 . Its label is:  8\n",
      "index  1901  : predict number:  4 . Its label is:  9\n",
      "index  2018  : predict number:  7 . Its label is:  1\n",
      "index  2035  : predict number:  3 . Its label is:  5\n",
      "index  2043  : predict number:  8 . Its label is:  4\n",
      "index  2053  : predict number:  9 . Its label is:  4\n",
      "index  2098  : predict number:  0 . Its label is:  2\n",
      "index  2109  : predict number:  7 . Its label is:  3\n",
      "index  2118  : predict number:  0 . Its label is:  6\n",
      "index  2129  : predict number:  2 . Its label is:  9\n",
      "index  2130  : predict number:  9 . Its label is:  4\n",
      "index  2135  : predict number:  1 . Its label is:  6\n",
      "index  2189  : predict number:  8 . Its label is:  9\n",
      "index  2280  : predict number:  5 . Its label is:  3\n",
      "index  2387  : predict number:  1 . Its label is:  9\n",
      "index  2406  : predict number:  4 . Its label is:  9\n",
      "index  2414  : predict number:  4 . Its label is:  9\n",
      "index  2462  : predict number:  0 . Its label is:  2\n",
      "index  2488  : predict number:  4 . Its label is:  2\n",
      "index  2597  : predict number:  3 . Its label is:  5\n",
      "index  2654  : predict number:  1 . Its label is:  6\n",
      "index  2720  : predict number:  4 . Its label is:  9\n",
      "index  2760  : predict number:  4 . Its label is:  9\n",
      "index  2896  : predict number:  0 . Its label is:  8\n",
      "index  2921  : predict number:  8 . Its label is:  3\n",
      "index  2927  : predict number:  7 . Its label is:  3\n",
      "index  2930  : predict number:  7 . Its label is:  5\n",
      "index  2939  : predict number:  5 . Its label is:  9\n",
      "index  2953  : predict number:  5 . Its label is:  3\n",
      "index  2959  : predict number:  3 . Its label is:  2\n",
      "index  2995  : predict number:  8 . Its label is:  6\n",
      "index  3030  : predict number:  0 . Its label is:  6\n",
      "index  3060  : predict number:  7 . Its label is:  9\n",
      "index  3422  : predict number:  0 . Its label is:  6\n",
      "index  3503  : predict number:  1 . Its label is:  9\n",
      "index  3511  : predict number:  7 . Its label is:  2\n",
      "index  3520  : predict number:  4 . Its label is:  6\n",
      "index  3534  : predict number:  8 . Its label is:  4\n",
      "index  3558  : predict number:  0 . Its label is:  5\n",
      "index  3597  : predict number:  5 . Its label is:  9\n",
      "index  3681  : predict number:  3 . Its label is:  2\n",
      "index  3727  : predict number:  9 . Its label is:  8\n",
      "index  3796  : predict number:  8 . Its label is:  2\n",
      "index  3806  : predict number:  8 . Its label is:  5\n",
      "index  3808  : predict number:  8 . Its label is:  7\n",
      "index  3853  : predict number:  8 . Its label is:  6\n",
      "index  4063  : predict number:  5 . Its label is:  6\n",
      "index  4075  : predict number:  0 . Its label is:  8\n",
      "index  4176  : predict number:  7 . Its label is:  2\n",
      "index  4199  : predict number:  9 . Its label is:  7\n",
      "index  4224  : predict number:  7 . Its label is:  9\n",
      "index  4238  : predict number:  3 . Its label is:  7\n",
      "index  4248  : predict number:  8 . Its label is:  2\n",
      "index  4256  : predict number:  0 . Its label is:  3\n",
      "index  4265  : predict number:  7 . Its label is:  4\n",
      "index  4350  : predict number:  3 . Its label is:  2\n",
      "index  4400  : predict number:  1 . Its label is:  7\n",
      "index  4497  : predict number:  7 . Its label is:  8\n",
      "index  4500  : predict number:  1 . Its label is:  9\n",
      "index  4507  : predict number:  2 . Its label is:  1\n",
      "index  4571  : predict number:  8 . Its label is:  6\n",
      "index  4740  : predict number:  5 . Its label is:  3\n",
      "index  4761  : predict number:  8 . Its label is:  9\n",
      "index  4783  : predict number:  9 . Its label is:  4\n",
      "index  4807  : predict number:  0 . Its label is:  8\n",
      "index  4814  : predict number:  0 . Its label is:  6\n",
      "index  4860  : predict number:  9 . Its label is:  4\n",
      "index  4956  : predict number:  4 . Its label is:  8\n",
      "index  4997  : predict number:  3 . Its label is:  2\n",
      "index  5127  : predict number:  7 . Its label is:  2\n",
      "index  5734  : predict number:  7 . Its label is:  3\n",
      "index  5888  : predict number:  0 . Its label is:  4\n",
      "index  5955  : predict number:  8 . Its label is:  3\n",
      "index  5981  : predict number:  9 . Its label is:  5\n",
      "index  5997  : predict number:  9 . Its label is:  5\n",
      "index  6091  : predict number:  5 . Its label is:  9\n",
      "index  6093  : predict number:  8 . Its label is:  2\n",
      "index  6571  : predict number:  7 . Its label is:  9\n",
      "index  6572  : predict number:  5 . Its label is:  1\n",
      "index  6576  : predict number:  1 . Its label is:  7\n",
      "index  6597  : predict number:  7 . Its label is:  0\n",
      "index  6651  : predict number:  8 . Its label is:  0\n",
      "index  8059  : predict number:  1 . Its label is:  2\n",
      "index  8079  : predict number:  1 . Its label is:  2\n",
      "index  8094  : predict number:  8 . Its label is:  2\n",
      "index  8311  : predict number:  4 . Its label is:  6\n",
      "index  8408  : predict number:  5 . Its label is:  8\n",
      "index  8520  : predict number:  9 . Its label is:  4\n",
      "index  8527  : predict number:  9 . Its label is:  4\n",
      "index  9009  : predict number:  2 . Its label is:  7\n",
      "index  9015  : predict number:  2 . Its label is:  7\n",
      "index  9051  : predict number:  8 . Its label is:  1\n",
      "index  9530  : predict number:  8 . Its label is:  9\n",
      "index  9613  : predict number:  3 . Its label is:  2\n",
      "index  9638  : predict number:  7 . Its label is:  9\n",
      "index  9642  : predict number:  7 . Its label is:  9\n",
      "index  9664  : predict number:  7 . Its label is:  2\n",
      "index  9679  : predict number:  4 . Its label is:  6\n",
      "index  9692  : predict number:  7 . Its label is:  9\n",
      "index  9698  : predict number:  4 . Its label is:  6\n",
      "index  9729  : predict number:  6 . Its label is:  5\n",
      "index  9770  : predict number:  0 . Its label is:  5\n",
      "index  9811  : predict number:  8 . Its label is:  2\n",
      "index  9839  : predict number:  3 . Its label is:  2\n",
      "index  9904  : predict number:  8 . Its label is:  2\n",
      "The testing set accuracy of the network is 98 %\n"
     ]
    }
   ],
   "source": [
    "# Evaluating the results\n",
    "correct_num, total_num = 0, 0\n",
    "predictions = []\n",
    "net.eval()\n",
    "wrong_list = []\n",
    "wrong_index = []\n",
    "for i, data in enumerate(testloader, 0):\n",
    "    inputs, labels = data\n",
    "    outputs = net(inputs)\n",
    "    _, predicted = torch.max(outputs.data, 1)\n",
    "    predictions.append(outputs)\n",
    "    total_num += labels.size(0)\n",
    "    if predicted != labels:\n",
    "        print('index ', i, ' : predict number: ', int(predicted), '. Its label is: ', int(labels))\n",
    "        wrong_list.append(int(labels))\n",
    "        wrong_index.append(int(i))\n",
    "    correct_num += (predicted == labels).sum().item()\n",
    "    \n",
    "print('ACC of testset: ', (correct_num / total_num * 100))"
   ]
  },
  {
   "cell_type": "code",
   "execution_count": 39,
   "metadata": {},
   "outputs": [
    {
     "name": "stdout",
     "output_type": "stream",
     "text": [
      "torch.Size([1, 28, 28])\n"
     ]
    }
   ],
   "source": [
    "img = cv2.imread('paper.png', 0)\n",
    "to_pil_image = transforms.ToPILImage()\n",
    "to_Tensor = transforms.ToTensor()\n",
    "img = to_pil_image(img)\n",
    "new_img=img.resize((28,28),Image.BILINEAR)\n",
    "new_img.save('new_img.png')\n",
    "img = to_Tensor(new_img)\n",
    "print(img.shape)"
   ]
  },
  {
   "cell_type": "code",
   "execution_count": 40,
   "metadata": {},
   "outputs": [
    {
     "name": "stdout",
     "output_type": "stream",
     "text": [
      "predict value:  1\n"
     ]
    }
   ],
   "source": [
    "out = net.forward(to_Tensor(new_img).unsqueeze(0))\n",
    "_, predicted = torch.max(out.data, 1)\n",
    "print('predict value: ', int(predicted[0]))"
   ]
  },
  {
   "cell_type": "code",
   "execution_count": 89,
   "metadata": {},
   "outputs": [
    {
     "name": "stdout",
     "output_type": "stream",
     "text": [
      "6\n"
     ]
    },
    {
     "data": {
      "text/plain": [
       "<matplotlib.image.AxesImage at 0x208ddf810>"
      ]
     },
     "execution_count": 89,
     "metadata": {},
     "output_type": "execute_result"
    },
    {
     "data": {
      "image/png": "[encoded data removed]",
      "text/plain": [
       "<Figure size 432x288 with 1 Axes>"
      ]
     },
     "metadata": {
      "needs_background": "light"
     },
     "output_type": "display_data"
    }
   ],
   "source": [
    "index = wrong_index[14]\n",
    "print(testset[index][1])\n",
    "plt.imshow(testset[index][0].squeeze(0))"
   ]
  },
  {
   "cell_type": "code",
   "execution_count": null,
   "metadata": {},
   "outputs": [],
   "source": []
  }
 ],
 "metadata": {
  "kernelspec": {
   "display_name": "Python 3",
   "language": "python",
   "name": "python3"
  },
  "language_info": {
   "codemirror_mode": {
    "name": "ipython",
    "version": 3
   },
   "file_extension": ".py",
   "mimetype": "text/x-python",
   "name": "python",
   "nbconvert_exporter": "python",
   "pygments_lexer": "ipython3",
   "version": "3.7.5"
  }
 },
 "nbformat": 4,
 "nbformat_minor": 2
}
